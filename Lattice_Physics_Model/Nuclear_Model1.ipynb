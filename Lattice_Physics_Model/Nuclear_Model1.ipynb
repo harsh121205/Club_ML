{
 "cells": [
  {
   "cell_type": "code",
   "execution_count": 633,
   "metadata": {},
   "outputs": [],
   "source": [
    "import pandas as pd\n",
    "import numpy as np\n",
    "import matplotlib.pyplot as plt"
   ]
  },
  {
   "cell_type": "code",
   "execution_count": 634,
   "metadata": {},
   "outputs": [],
   "source": [
    "df_train = pd.read_csv('/Users/harshsiddharthmalgatte/Desktop/PClub_ML/lattice-physics+(pwr+fuel+assembly+neutronics+simulation+results)/raw.csv')\n",
    "df_test = pd.read_csv('/Users/harshsiddharthmalgatte/Desktop/PClub_ML/lattice-physics+(pwr+fuel+assembly+neutronics+simulation+results)/test.csv')"
   ]
  },
  {
   "cell_type": "code",
   "execution_count": 635,
   "metadata": {},
   "outputs": [],
   "source": [
    "data_train = np.array(df_train)\n",
    "X_train = []\n",
    "y_train = []\n",
    "for arr in data_train:\n",
    "    arr_ = str(arr).removeprefix(\"['\").removesuffix(\"']\").split()\n",
    "    arr_ = [float(i) for i in arr_]\n",
    "    X_train.append(arr_[2:])\n",
    "    y_train.append(arr_[0:2])\n",
    "X_train = np.array(X_train).T\n",
    "y_train = np.array(y_train).T"
   ]
  },
  {
   "cell_type": "code",
   "execution_count": 636,
   "metadata": {},
   "outputs": [],
   "source": [
    "data_test = np.array(df_test)\n",
    "X_test = []\n",
    "y_test = []\n",
    "for arr in data_test:\n",
    "    arr_ = str(arr).removeprefix(\"['\").removesuffix(\"']\").split()\n",
    "    arr_ = [float(i) for i in arr_]\n",
    "    X_test.append(arr_[2:])\n",
    "    y_test.append(arr_[0:2])\n",
    "X_test = np.array(X_test,dtype=np.float64).T\n",
    "y_test = np.array(y_test,dtype=np.float64).T    "
   ]
  },
  {
   "cell_type": "code",
   "execution_count": 637,
   "metadata": {},
   "outputs": [
    {
     "data": {
      "text/plain": [
       "(39, 23999)"
      ]
     },
     "execution_count": 637,
     "metadata": {},
     "output_type": "execute_result"
    }
   ],
   "source": [
    "m,n = X_train.shape\n",
    "m,n\n"
   ]
  },
  {
   "cell_type": "code",
   "execution_count": 638,
   "metadata": {},
   "outputs": [
    {
     "data": {
      "text/plain": [
       "((39, 359), (2, 359))"
      ]
     },
     "execution_count": 638,
     "metadata": {},
     "output_type": "execute_result"
    }
   ],
   "source": [
    "X_test.shape, y_test.shape"
   ]
  },
  {
   "cell_type": "code",
   "execution_count": 639,
   "metadata": {},
   "outputs": [],
   "source": [
    "n = 23999\n",
    "batch_size = 64"
   ]
  },
  {
   "cell_type": "code",
   "execution_count": 640,
   "metadata": {},
   "outputs": [],
   "source": [
    "import scipy  # type: ignore"
   ]
  },
  {
   "cell_type": "code",
   "execution_count": 641,
   "metadata": {},
   "outputs": [],
   "source": [
    "def apply_dropout(A, dropout_rate):\n",
    "    D = np.random.rand(*A.shape) > dropout_rate\n",
    "    A = A * D\n",
    "    A = A / (1 - dropout_rate)\n",
    "    return A"
   ]
  },
  {
   "cell_type": "code",
   "execution_count": 642,
   "metadata": {},
   "outputs": [],
   "source": [
    "def init_params():\n",
    "    W1 = np.random.randn(128,39) * np.sqrt(2/128)\n",
    "    b1 = np.zeros((128,1))\n",
    "    W2 = np.random.randn(64,128) * np.sqrt(2/64)\n",
    "    b2 = np.zeros((64,1))\n",
    "    W3 = np.random.randn(32,64) * np.sqrt(2/32)\n",
    "    b3 = np.zeros((32,1))\n",
    "    W4 = np.random.randn(2,32)\n",
    "    b4 = np.zeros((2,1))\n",
    "    return W1, b1, W2, b2, W3, b3, W4, b4\n",
    "\n",
    "from scipy.special import expit as sigmoid\n",
    "\n",
    "def relu(x,alpha=0.001):\n",
    "    return np.maximum(x*alpha,x)\n",
    "\n",
    "def grad_relu(x):    \n",
    "    return np.maximum(0, np.sign(x))\n",
    "\n",
    "def grad_sigmoid(x):\n",
    "    sigmoid_x = sigmoid(x)\n",
    "    return (1.26)*sigmoid_x * (1 - sigmoid_x)\n",
    "\n",
    "\n",
    "def forward_prop(W1, b1, W2, b2, W3, b3, W4, b4,X,a):\n",
    "    Z1 = np.dot(W1,X) + b1\n",
    "    A1 =relu(Z1)\n",
    "    A1 = apply_dropout(A1, a)\n",
    "    Z2 = np.dot(W2,A1) + b2\n",
    "    A2 = relu(Z2)\n",
    "    A2 = apply_dropout(A2, a)\n",
    "    Z3 = np.dot(W3,A2) + b3\n",
    "    A3 = relu(Z3)\n",
    "    A3 = apply_dropout(A3, a)\n",
    "    Z4 = np.dot(W4,A3) + b4\n",
    "    A4 = 1.26*sigmoid(Z4) + 1.24\n",
    "    return Z1, A1, Z2, A2, Z3, A3, Z4, A4\n",
    "\n",
    "def compute_cost(A4, y):\n",
    "    m = y.shape[1]\n",
    "    cost = (1/m) * np.sum(np.square(A4 - y))\n",
    "    return cost\n",
    "\n",
    "def backward_prop(W1, b1, W2, b2,W3, b3, W4, b4,Z1, A1, Z2, A2,Z3,A3,Z4,A4,X,y) :\n",
    "    m = X.shape[1]\n",
    "    dA4 = A4 - y\n",
    "    dZ4 = dA4 * grad_sigmoid(Z4)\n",
    "    dW4 = np.dot(dZ4,A3.T) / batch_size\n",
    "    db4 = np.sum(dZ4,axis=1,keepdims=True) / batch_size\n",
    "    dA3 = np.dot(W4.T,dZ4)\n",
    "    dZ3 = dA3 * grad_relu(Z3)\n",
    "    dW3 = np.dot(dZ3,A2.T) / batch_size\n",
    "    db3 = np.sum(dZ3,axis=1,keepdims=True) / batch_size\n",
    "    dA2 = np.dot(W3.T,dZ3)\n",
    "    dZ2 = dA2 * grad_relu(Z2)\n",
    "    dW2 = np.dot(dZ2,A1.T) / batch_size\n",
    "    db2 = np.sum(dZ2,axis=1,keepdims=True) / batch_size\n",
    "    dA1 = np.dot(W2.T,dZ2)\n",
    "    dZ1 = dA1 * grad_relu(Z1)\n",
    "    dW1 = np.dot(dZ1,X.T) / batch_size\n",
    "    db1 = np.sum(dZ1,axis=1,keepdims=True) / batch_size\n",
    "    return dW1, db1, dW2, db2, dW3, db3, dW4, db4\n",
    "    \n",
    "\n",
    "def update_params(W1, b1, W2, b2,W3, b3, W4, b4,dW1, db1, dW2, db2,dW3, db3, dW4, db4,lr):\n",
    "    W1 = W1 - lr * dW1 +   lr\n",
    "    b1 = b1 - lr * db1 +   1  \n",
    "    W2 = W2 - lr * dW2 +   2  \n",
    "    b2 = b2 - lr * db2 +   2 \n",
    "    W3 = W3 - lr * dW3 +   3  \n",
    "    b3 = b3 - lr * db3 +   3 \n",
    "    W4 = W4 - lr * dW4 +   4\n",
    "    b4 = b4 - lr * db4 +   4  \n",
    "    return W1, b1, W2, b2, W3, b3, W4, b4"
   ]
  },
  {
   "cell_type": "code",
   "execution_count": 643,
   "metadata": {},
   "outputs": [],
   "source": [
    "def batch_norm(X):\n",
    "    mu = np.mean(X,axis=1,keepdims=True)\n",
    "    var = np.var(X,axis=1,keepdims=True)\n",
    "    X_norm = (X - mu) / np.sqrt(var + 1e-8)\n",
    "    return X_norm\n",
    "\n",
    "def lr_decay(epoch, initial_lr=0.1, decay_rate=0.01):\n",
    "    return initial_lr * np.exp(-decay_rate * epoch)"
   ]
  },
  {
   "cell_type": "code",
   "execution_count": 644,
   "metadata": {},
   "outputs": [],
   "source": [
    "def step_decay(epoch, initial_lr=0.001, decay_rate=0.5, step_size=10):\n",
    "    return initial_lr * (decay_rate ** (epoch // step_size))"
   ]
  },
  {
   "cell_type": "code",
   "execution_count": 645,
   "metadata": {},
   "outputs": [],
   "source": [
    "def gradient_descent(X, y, iterations):\n",
    "    W1, b1, W2, b2, W3, b3, W4, b4 = init_params()\n",
    "    for i in range(iterations):\n",
    "        lr = lr_decay(i, initial_lr=0.001, decay_rate=0.01)\n",
    "        permutation = np.random.permutation(n)\n",
    "        X_shuffled = X[:, permutation]\n",
    "        y_shuffled = y[:, permutation]\n",
    "        for j in range(0, n, batch_size):\n",
    "            X_batch = X_shuffled[:, j:j+batch_size]\n",
    "            y_batch = y_shuffled[:, j:j+batch_size]\n",
    "            Z1, A1, Z2, A2 , Z3, A3, Z4, A4 = forward_prop(W1, b1, W2, b2,W3, b3, W4, b4,  X_batch,0.1)\n",
    "            cost = compute_cost(A4, y_batch)\n",
    "            Z1,Z2,Z3 = batch_norm(Z1),batch_norm(Z2),batch_norm(Z3)\n",
    "            dW1, db1, dW2, db2, dW3, db3, dW4, db4= backward_prop(W1, b1, W2, b2,W3, b3, W4, b4,Z1, A1, Z2, A2,Z3, A3, Z4, A4,X_batch, y_batch)\n",
    "            max_grad_norm = 5.0\n",
    "            for dW in [dW1, dW2, dW3, dW4 ]:\n",
    "                np.clip(dW, -max_grad_norm, max_grad_norm, out=dW)\n",
    "            for db in [db1, db2, db3, db4 ]:\n",
    "                np.clip(db, -max_grad_norm, max_grad_norm, out=db)\n",
    "            W1, b1, W2, b2,W3, b3, W4,b4  = update_params(W1, b1, W2, b2,W3, b3, W4, b4 ,dW1, db1, dW2, db2,dW3, db3, dW4, db4,lr)\n",
    "        if i % 100 == 0:\n",
    "            print(\"Gradient norms:\", np.linalg.norm(dW1), np.linalg.norm(dW2), ...)\n",
    "            print(f\"Cost at iteration {i}\",cost)\n",
    "           \n",
    "    return W1, b1, W2, b2, W3, b3, W4, b4 "
   ]
  },
  {
   "cell_type": "code",
   "execution_count": 646,
   "metadata": {},
   "outputs": [
    {
     "name": "stdout",
     "output_type": "stream",
     "text": [
      "Gradient norms: 0.7991734467130008 0.5540353558078126 Ellipsis\n",
      "Cost at iteration 0 0.4019398669975763\n",
      "Gradient norms: 1.2568391474674836 1.2631197588043366 Ellipsis\n",
      "Cost at iteration 100 0.3847173796475203\n",
      "Gradient norms: 1.1932340301579432 1.1907243626346877 Ellipsis\n",
      "Cost at iteration 200 0.4537774485023691\n",
      "Gradient norms: 9.579444086738467e-09 1.2236319695670074e-08 Ellipsis\n",
      "Cost at iteration 300 0.44437532268649454\n",
      "Gradient norms: 1.7406567604659334e-52 2.0381455478871254e-52 Ellipsis\n",
      "Cost at iteration 400 0.42966172766598176\n"
     ]
    },
    {
     "ename": "KeyboardInterrupt",
     "evalue": "",
     "output_type": "error",
     "traceback": [
      "\u001b[0;31m---------------------------------------------------------------------------\u001b[0m",
      "\u001b[0;31mKeyboardInterrupt\u001b[0m                         Traceback (most recent call last)",
      "Cell \u001b[0;32mIn[646], line 1\u001b[0m\n\u001b[0;32m----> 1\u001b[0m W1, b1, W2, b2,W3, b3, W4, b4  \u001b[38;5;241m=\u001b[39m \u001b[43mgradient_descent\u001b[49m\u001b[43m(\u001b[49m\u001b[43mX_train\u001b[49m\u001b[43m,\u001b[49m\u001b[43m \u001b[49m\u001b[43my_train\u001b[49m\u001b[43m,\u001b[49m\u001b[43m \u001b[49m\u001b[38;5;241;43m10000\u001b[39;49m\u001b[43m)\u001b[49m\n",
      "Cell \u001b[0;32mIn[645], line 11\u001b[0m, in \u001b[0;36mgradient_descent\u001b[0;34m(X, y, iterations)\u001b[0m\n\u001b[1;32m      9\u001b[0m X_batch \u001b[38;5;241m=\u001b[39m X_shuffled[:, j:j\u001b[38;5;241m+\u001b[39mbatch_size]\n\u001b[1;32m     10\u001b[0m y_batch \u001b[38;5;241m=\u001b[39m y_shuffled[:, j:j\u001b[38;5;241m+\u001b[39mbatch_size]\n\u001b[0;32m---> 11\u001b[0m Z1, A1, Z2, A2 , Z3, A3, Z4, A4 \u001b[38;5;241m=\u001b[39m \u001b[43mforward_prop\u001b[49m\u001b[43m(\u001b[49m\u001b[43mW1\u001b[49m\u001b[43m,\u001b[49m\u001b[43m \u001b[49m\u001b[43mb1\u001b[49m\u001b[43m,\u001b[49m\u001b[43m \u001b[49m\u001b[43mW2\u001b[49m\u001b[43m,\u001b[49m\u001b[43m \u001b[49m\u001b[43mb2\u001b[49m\u001b[43m,\u001b[49m\u001b[43mW3\u001b[49m\u001b[43m,\u001b[49m\u001b[43m \u001b[49m\u001b[43mb3\u001b[49m\u001b[43m,\u001b[49m\u001b[43m \u001b[49m\u001b[43mW4\u001b[49m\u001b[43m,\u001b[49m\u001b[43m \u001b[49m\u001b[43mb4\u001b[49m\u001b[43m,\u001b[49m\u001b[43m  \u001b[49m\u001b[43mX_batch\u001b[49m\u001b[43m,\u001b[49m\u001b[38;5;241;43m0.1\u001b[39;49m\u001b[43m)\u001b[49m\n\u001b[1;32m     12\u001b[0m cost \u001b[38;5;241m=\u001b[39m compute_cost(A4, y_batch)\n\u001b[1;32m     13\u001b[0m Z1,Z2,Z3 \u001b[38;5;241m=\u001b[39m batch_norm(Z1),batch_norm(Z2),batch_norm(Z3)\n",
      "Cell \u001b[0;32mIn[642], line 32\u001b[0m, in \u001b[0;36mforward_prop\u001b[0;34m(W1, b1, W2, b2, W3, b3, W4, b4, X, a)\u001b[0m\n\u001b[1;32m     30\u001b[0m A2 \u001b[38;5;241m=\u001b[39m relu(Z2)\n\u001b[1;32m     31\u001b[0m A2 \u001b[38;5;241m=\u001b[39m apply_dropout(A2, a)\n\u001b[0;32m---> 32\u001b[0m Z3 \u001b[38;5;241m=\u001b[39m \u001b[43mnp\u001b[49m\u001b[38;5;241;43m.\u001b[39;49m\u001b[43mdot\u001b[49m\u001b[43m(\u001b[49m\u001b[43mW3\u001b[49m\u001b[43m,\u001b[49m\u001b[43mA2\u001b[49m\u001b[43m)\u001b[49m \u001b[38;5;241m+\u001b[39m b3\n\u001b[1;32m     33\u001b[0m A3 \u001b[38;5;241m=\u001b[39m relu(Z3)\n\u001b[1;32m     34\u001b[0m A3 \u001b[38;5;241m=\u001b[39m apply_dropout(A3, a)\n",
      "File \u001b[0;32m~/Desktop/PClub_ML/.venv/lib/python3.13/site-packages/numpy/_core/multiarray.py:761\u001b[0m, in \u001b[0;36mdot\u001b[0;34m(a, b, out)\u001b[0m\n\u001b[1;32m    692\u001b[0m \u001b[38;5;250m    \u001b[39m\u001b[38;5;124;03m\"\"\"\u001b[39;00m\n\u001b[1;32m    693\u001b[0m \u001b[38;5;124;03m    result_type(*arrays_and_dtypes)\u001b[39;00m\n\u001b[1;32m    694\u001b[0m \n\u001b[0;32m   (...)\u001b[0m\n\u001b[1;32m    756\u001b[0m \n\u001b[1;32m    757\u001b[0m \u001b[38;5;124;03m    \"\"\"\u001b[39;00m\n\u001b[1;32m    758\u001b[0m     \u001b[38;5;28;01mreturn\u001b[39;00m arrays_and_dtypes\n\u001b[0;32m--> 761\u001b[0m \u001b[38;5;129m@array_function_from_c_func_and_dispatcher\u001b[39m(_multiarray_umath\u001b[38;5;241m.\u001b[39mdot)\n\u001b[1;32m    762\u001b[0m \u001b[38;5;28;01mdef\u001b[39;00m\u001b[38;5;250m \u001b[39m\u001b[38;5;21mdot\u001b[39m(a, b, out\u001b[38;5;241m=\u001b[39m\u001b[38;5;28;01mNone\u001b[39;00m):\n\u001b[1;32m    763\u001b[0m \u001b[38;5;250m    \u001b[39m\u001b[38;5;124;03m\"\"\"\u001b[39;00m\n\u001b[1;32m    764\u001b[0m \u001b[38;5;124;03m    dot(a, b, out=None)\u001b[39;00m\n\u001b[1;32m    765\u001b[0m \n\u001b[0;32m   (...)\u001b[0m\n\u001b[1;32m    851\u001b[0m \n\u001b[1;32m    852\u001b[0m \u001b[38;5;124;03m    \"\"\"\u001b[39;00m\n\u001b[1;32m    853\u001b[0m     \u001b[38;5;28;01mreturn\u001b[39;00m (a, b, out)\n",
      "\u001b[0;31mKeyboardInterrupt\u001b[0m: "
     ]
    }
   ],
   "source": [
    "W1, b1, W2, b2,W3, b3, W4, b4  = gradient_descent(X_train, y_train, 10000)"
   ]
  },
  {
   "cell_type": "code",
   "execution_count": 42,
   "metadata": {},
   "outputs": [
    {
     "data": {
      "text/plain": [
       "np.float64(0.015926829354358046)"
      ]
     },
     "execution_count": 42,
     "metadata": {},
     "output_type": "execute_result"
    }
   ],
   "source": [
    "_,_,_,_,_,_,_,o_A4 = forward_prop(W1, b1, W2, b2,W3, b3, W4, b4, X_test,0)\n",
    "mse = compute_cost(o_A4, y_test)\n",
    "mse"
   ]
  }
 ],
 "metadata": {
  "kernelspec": {
   "display_name": ".venv",
   "language": "python",
   "name": "python3"
  },
  "language_info": {
   "codemirror_mode": {
    "name": "ipython",
    "version": 3
   },
   "file_extension": ".py",
   "mimetype": "text/x-python",
   "name": "python",
   "nbconvert_exporter": "python",
   "pygments_lexer": "ipython3",
   "version": "3.13.1"
  }
 },
 "nbformat": 4,
 "nbformat_minor": 2
}
