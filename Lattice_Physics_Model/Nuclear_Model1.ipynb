{
 "cells": [
  {
   "cell_type": "code",
   "execution_count": null,
   "metadata": {},
   "outputs": [],
   "source": [
    "pip install pandas # type: ignore"
   ]
  },
  {
   "cell_type": "code",
   "execution_count": 21,
   "metadata": {},
   "outputs": [],
   "source": [
    "import pandas as pd\n",
    "import numpy as np"
   ]
  },
  {
   "cell_type": "markdown",
   "metadata": {},
   "source": [
    "Data Import"
   ]
  },
  {
   "cell_type": "code",
   "execution_count": 22,
   "metadata": {},
   "outputs": [],
   "source": [
    "df_train = pd.read_csv('/Users/harshsiddharthmalgatte/Desktop/PClub_ML/Lattice_Physics_Model/raw.csv')\n",
    "df_test = pd.read_csv('/Users/harshsiddharthmalgatte/Desktop/PClub_ML/Lattice_Physics_Model/test.csv')"
   ]
  },
  {
   "cell_type": "markdown",
   "metadata": {},
   "source": [
    "Data Processing"
   ]
  },
  {
   "cell_type": "code",
   "execution_count": 23,
   "metadata": {},
   "outputs": [],
   "source": [
    "data_train = np.array(df_train)\n",
    "X_train = []\n",
    "y_train = []\n",
    "for arr in data_train:\n",
    "    arr_ = str(arr).removeprefix(\"['\").removesuffix(\"']\").split()\n",
    "    arr_ = [float(i) for i in arr_]\n",
    "    X_train.append(arr_[2:])\n",
    "    y_train.append(arr_[0:2])\n",
    "X_train = np.array(X_train).T\n",
    "y_train = np.array(y_train).T"
   ]
  },
  {
   "cell_type": "code",
   "execution_count": 24,
   "metadata": {},
   "outputs": [],
   "source": [
    "data_test = np.array(df_test)\n",
    "X_test = []\n",
    "y_test = []\n",
    "for arr in data_test:\n",
    "    arr_ = str(arr).removeprefix(\"['\").removesuffix(\"']\").split()\n",
    "    arr_ = [float(i) for i in arr_]\n",
    "    X_test.append(arr_[2:])\n",
    "    y_test.append(arr_[0:2])\n",
    "X_test = np.array(X_test,dtype=np.float64).T\n",
    "y_test = np.array(y_test,dtype=np.float64).T    "
   ]
  },
  {
   "cell_type": "code",
   "execution_count": 25,
   "metadata": {},
   "outputs": [],
   "source": [
    "m,n = X_train.shape"
   ]
  },
  {
   "cell_type": "markdown",
   "metadata": {},
   "source": [
    "Forward and Backward Proppogation"
   ]
  },
  {
   "cell_type": "code",
   "execution_count": 26,
   "metadata": {},
   "outputs": [],
   "source": [
    "layers = None\n",
    "init_weight  = lambda shape: np.random.randn(*shape) * np.sqrt(2/shape[0])\n",
    "init_bias = lambda shape: np.zeros(shape)\n",
    "\n",
    "def init_params(input_size,hidden_size,output_size):\n",
    "    parameters = {}\n",
    "    parameters['Weights'] = []\n",
    "    parameters['Biases'] = []\n",
    "    for hidden in hidden_size:\n",
    "        parameters['Weights'].append(init_weight((hidden, input_size)))\n",
    "        parameters['Biases'].append(init_bias((hidden, 1)))\n",
    "        input_size = hidden\n",
    "    return parameters\n",
    "\n",
    "def forward_prop(parameters,X,dropout_rate):\n",
    "    layer_nodes = {}\n",
    "    layer_nodes['Z'] = []\n",
    "    layer_nodes['A'] = []\n",
    "    index_ = 0\n",
    "    X_ = X\n",
    "    for weight, bias in zip(parameters['Weights'], parameters['Biases']):\n",
    "        Z = np.dot(weight,X_) + bias\n",
    "        A = leaky_relu(Z)\n",
    "        A = apply_dropout(A, dropout_rate)\n",
    "        if index_ == layers - 1:\n",
    "            A = Z\n",
    "        layer_nodes['Z'].append(Z)\n",
    "        layer_nodes['A'].append(A)\n",
    "        X_ = A\n",
    "        index_ += 1    \n",
    "    return layer_nodes\n",
    "\n",
    "def compute_cost(output_layer, y):\n",
    "    cost = (1/n) * np.sum(np.square(output_layer - y))\n",
    "    return cost\n",
    "\n",
    "def backward_prop(parameters,layer_nodes,X,y) :\n",
    "    grad_params = {}\n",
    "    grad_params['dWeights'] = []\n",
    "    grad_params['dBiases'] = []\n",
    "    dL = layer_nodes['A'][-1] - y\n",
    "    k = layers - 1\n",
    "    for node_Z,node_A in zip(layer_nodes['Z'][::-1],layer_nodes['A'][:-1][::-1]):\n",
    "        if k == layers - 1:\n",
    "            dZ = dL\n",
    "        else :\n",
    "            dZ = dA * grad_relu(node_Z)        \n",
    "        dW = np.dot(dZ,node_A.T) / n\n",
    "        db = np.sum(dZ,axis=1,keepdims=True) / n\n",
    "        dA = np.dot(parameters['Weights'][k].T,dZ)\n",
    "        grad_params['dWeights'].append(dW)\n",
    "        grad_params['dBiases'].append(db)\n",
    "        k -= 1\n",
    "    dZ = dA * grad_relu(layer_nodes['Z'][0])\n",
    "    dW = np.dot(dZ,X.T) / n\n",
    "    db = np.sum(dZ,axis=1,keepdims=True) / n   \n",
    "    grad_params['dWeights'].append(dW)\n",
    "    grad_params['dBiases'].append(db)\n",
    "    grad_params['dWeights'] = grad_params['dWeights'][::-1]\n",
    "    grad_params['dBiases'] = grad_params['dBiases'][::-1]\n",
    "    return grad_params"
   ]
  },
  {
   "cell_type": "markdown",
   "metadata": {},
   "source": [
    "Activation Functions"
   ]
  },
  {
   "cell_type": "code",
   "execution_count": 27,
   "metadata": {},
   "outputs": [],
   "source": [
    "def apply_dropout(A, dropout_rate):\n",
    "    D = np.random.rand(*A.shape) > dropout_rate\n",
    "    A = A * D\n",
    "    A = A / (1 - dropout_rate)\n",
    "    return A\n",
    "\n",
    "def leaky_relu(x,alpha=0.01):\n",
    "    return np.maximum(x*alpha,x)\n",
    "\n",
    "def grad_relu(x,alpha=0.01):    \n",
    "    grad = np.ones_like(x)\n",
    "    grad[x < 0] = alpha\n",
    "    return grad\n",
    "\n",
    "def batch_norm(X):\n",
    "    mu = np.mean(X,axis=1,keepdims=True)\n",
    "    var = np.var(X,axis=1,keepdims=True)\n",
    "    X_norm = (X - mu) / np.sqrt(var + 1e-5)\n",
    "    return X_norm\n",
    "\n",
    "def lr_decay(epoch, initial_lr, decay_rate):\n",
    "    return initial_lr * np.exp(-decay_rate * epoch)"
   ]
  },
  {
   "cell_type": "markdown",
   "metadata": {},
   "source": [
    "Adam Optimizer"
   ]
  },
  {
   "cell_type": "code",
   "execution_count": 28,
   "metadata": {},
   "outputs": [],
   "source": [
    "def init_adam_params(parameters):\n",
    "    adam_params = {\n",
    "        'Weights_adam':\n",
    "            {'m_t':[],'v_t':[]},\n",
    "        'Biases_adam' :\n",
    "            {'m_t':[],'v_t':[]}\n",
    "    }\n",
    "    for weight,bias in zip(parameters['Weights'],parameters['Biases']) :\n",
    "        mat_W = np.zeros(weight.shape)\n",
    "        mat_b = np.zeros(bias.shape)\n",
    "        adam_params['Weights_adam']['m_t'].append(mat_W)\n",
    "        adam_params['Weights_adam']['v_t'].append(mat_W) \n",
    "        adam_params['Biases_adam']['m_t'].append(mat_b)\n",
    "        adam_params['Biases_adam']['v_t'].append(mat_b)\n",
    "    return adam_params\n",
    "\n",
    "def Adam_values(W,dW,m_t,v_t,t,lr,beta1,beta2,epsilon):\n",
    "    m_t = beta1*m_t + (1-beta1)*dW\n",
    "    v_t = beta2*v_t + (1-beta2)*(dW**2)\n",
    "    m_cap = m_t/(1-beta1**t+epsilon)\n",
    "    v_cap = v_t/(1-beta2**t+epsilon)\n",
    "    W = W - (lr*m_cap)/((np.sqrt(v_cap))+epsilon)\n",
    "    return W,m_t,v_t\n",
    "    \n",
    "def Adam_optimizer(parameters,grad_params,adam_params,lr,t): \n",
    "    beta1 = 0.9\n",
    "    beta2 = 0.999\n",
    "    epsilon = 1e-8\n",
    "    for index in range(layers) :\n",
    "        weight = parameters['Weights'][index]\n",
    "        bias = parameters['Biases'][index]\n",
    "        dW = grad_params['dWeights'][index]\n",
    "        db = grad_params['dBiases'][index]\n",
    "        m_t_W = adam_params['Weights_adam']['m_t'][index]\n",
    "        v_t_W = adam_params['Weights_adam']['v_t'][index]\n",
    "        m_t_b = adam_params['Biases_adam']['m_t'][index]\n",
    "        v_t_b = adam_params['Biases_adam']['v_t'][index]\n",
    "        weight,m_t_W,v_t_W = Adam_values(weight,dW,m_t_W,v_t_W,t,lr,beta1,beta2,epsilon)\n",
    "        parameters['Weights'][index] = weight\n",
    "        adam_params['Weights_adam']['m_t'][index] = m_t_W\n",
    "        adam_params['Weights_adam']['v_t'][index] = v_t_W\n",
    "        bias,m_t_b,v_t_b = Adam_values(bias,db,m_t_b,v_t_b,t,lr,beta1,beta2,epsilon)\n",
    "        parameters['Biases'][index] = bias\n",
    "        adam_params['Biases_adam']['m_t'][index] = m_t_b\n",
    "        adam_params['Biases_adam']['v_t'][index] = v_t_b\n",
    "    return parameters, adam_params   "
   ]
  },
  {
   "cell_type": "code",
   "execution_count": 29,
   "metadata": {},
   "outputs": [],
   "source": [
    "input_size = m\n",
    "hidden_size = [128, 64, 32, 2]\n",
    "output_size = 2\n",
    "layers = 4\n",
    "batch_size = 64"
   ]
  },
  {
   "cell_type": "markdown",
   "metadata": {},
   "source": [
    "Stocastic Gradient Descent "
   ]
  },
  {
   "cell_type": "code",
   "execution_count": 30,
   "metadata": {},
   "outputs": [],
   "source": [
    "def gradient_descent(X, y, iterations):\n",
    "    parameters = init_params(input_size,hidden_size,output_size)\n",
    "    adam_params = init_adam_params(parameters)\n",
    "    for i in range(iterations):\n",
    "        lr = lr_decay(i, initial_lr=0.000001, decay_rate=0.0001)\n",
    "        permutation = np.random.permutation(n)\n",
    "        X_shuffled = X[:, permutation]\n",
    "        y_shuffled = y[:, permutation]\n",
    "        for j in range(0, n, batch_size):\n",
    "            X_batch = X_shuffled[:, j:j+batch_size]\n",
    "            y_batch = y_shuffled[:, j:j+batch_size]\n",
    "            layer_nodes = forward_prop(parameters, X_batch,dropout_rate=0.5)\n",
    "            output_layer = layer_nodes['A'][-1]\n",
    "            cost = compute_cost(output_layer, y_batch)\n",
    "            for Z in layer_nodes['Z'] :\n",
    "                Z = batch_norm(Z)\n",
    "            grad_params= backward_prop(parameters,layer_nodes,X_batch, y_batch)\n",
    "            max_grad_norm = 1.0\n",
    "            for dW in grad_params['dWeights']:\n",
    "                np.clip(dW, -max_grad_norm, max_grad_norm, out=dW)\n",
    "            for db in grad_params['dBiases']:\n",
    "                np.clip(db, -max_grad_norm, max_grad_norm, out=db)\n",
    "            parameters,adam_params = Adam_optimizer(parameters,grad_params,adam_params,lr,i)    \n",
    "        if i % 100 == 0:\n",
    "            print(\"Gradient norms:\", np.linalg.norm(grad_params['dWeights'][0]), np.linalg.norm(grad_params['dBiases'][0]), ...)\n",
    "            print(f\"Cost at iteration {i}\",cost)           \n",
    "    return parameters "
   ]
  },
  {
   "cell_type": "code",
   "execution_count": 31,
   "metadata": {},
   "outputs": [
    {
     "name": "stdout",
     "output_type": "stream",
     "text": [
      "Gradient norms: 0.031165877903511836 0.0013496801554936382 Ellipsis\n",
      "Cost at iteration 0 16.465128508776505\n",
      "Gradient norms: 0.005902055451072678 0.0002891682712743081 Ellipsis\n",
      "Cost at iteration 100 5.380289567323654\n",
      "Gradient norms: 0.0010971269408025033 5.8827944157533214e-05 Ellipsis\n",
      "Cost at iteration 200 1.0936762395295243\n",
      "Gradient norms: 4.244198961236396e-06 2.505797703438888e-07 Ellipsis\n",
      "Cost at iteration 300 0.0013781753720844762\n",
      "Gradient norms: 7.11152753763953e-06 4.2207790962503373e-07 Ellipsis\n",
      "Cost at iteration 400 0.0012153319383883632\n",
      "Gradient norms: 6.936291967263826e-06 4.1509321355046834e-07 Ellipsis\n",
      "Cost at iteration 500 0.0012095302399412163\n",
      "Gradient norms: 3.1749174082585673e-06 1.955851928977455e-07 Ellipsis\n",
      "Cost at iteration 600 0.0008349787024757671\n",
      "Gradient norms: 2.5600922204793753e-06 1.5529455422926136e-07 Ellipsis\n",
      "Cost at iteration 700 0.0008580386388621978\n",
      "Gradient norms: 1.9209880212258782e-06 1.226689304195233e-07 Ellipsis\n",
      "Cost at iteration 800 0.0010216796368065415\n",
      "Gradient norms: 7.538391583011681e-06 4.495183169138239e-07 Ellipsis\n",
      "Cost at iteration 900 0.001156144571271213\n"
     ]
    }
   ],
   "source": [
    "parameters = gradient_descent(X_train, y_train, 1000)"
   ]
  },
  {
   "cell_type": "code",
   "execution_count": 32,
   "metadata": {},
   "outputs": [
    {
     "name": "stdout",
     "output_type": "stream",
     "text": [
      "0.0010077686519980942\n"
     ]
    }
   ],
   "source": [
    "layer_nodes = forward_prop(parameters, X_test,0)\n",
    "output_layer = layer_nodes['A'][-1]\n",
    "mse = compute_cost(output_layer, y_test)\n",
    "print(mse)"
   ]
  },
  {
   "cell_type": "markdown",
   "metadata": {},
   "source": [
    "Accuracy for Testing Data"
   ]
  },
  {
   "cell_type": "code",
   "execution_count": 33,
   "metadata": {},
   "outputs": [
    {
     "name": "stdout",
     "output_type": "stream",
     "text": [
      "96.82546278648667\n"
     ]
    }
   ],
   "source": [
    "accuracy = (1-np.sqrt(mse))*100\n",
    "print(accuracy)"
   ]
  }
 ],
 "metadata": {
  "kernelspec": {
   "display_name": "base",
   "language": "python",
   "name": "python3"
  },
  "language_info": {
   "codemirror_mode": {
    "name": "ipython",
    "version": 3
   },
   "file_extension": ".py",
   "mimetype": "text/x-python",
   "name": "python",
   "nbconvert_exporter": "python",
   "pygments_lexer": "ipython3",
   "version": "3.12.7"
  }
 },
 "nbformat": 4,
 "nbformat_minor": 2
}
